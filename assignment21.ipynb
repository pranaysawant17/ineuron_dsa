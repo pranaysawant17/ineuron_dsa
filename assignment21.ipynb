{
 "cells": [
  {
   "attachments": {},
   "cell_type": "markdown",
   "metadata": {},
   "source": [
    "You are given a binary tree. The binary tree is represented using the TreeNode class. Each TreeNode has an integer value and left and right children, represented using the TreeNode class itself. Convert this binary tree into a binary search tree."
   ]
  },
  {
   "cell_type": "code",
   "execution_count": 13,
   "metadata": {},
   "outputs": [],
   "source": [
    "class TreeNode:\n",
    "    def __init__(self, val=0, left=None, right=None):\n",
    "        self.val = val\n",
    "        self.left = left\n",
    "        self.right = right\n",
    "\n",
    "def inorderTraversal(node):\n",
    "    if node is None:\n",
    "        return []\n",
    "    return inorderTraversal(node.left) + [node.val] + inorderTraversal(node.right)\n",
    "\n",
    "def convertToBST(root):\n",
    "    values = inorderTraversal(root)\n",
    "    values.sort()\n",
    "\n",
    "    def convert(node):\n",
    "        nonlocal values\n",
    "        if node is None:\n",
    "            return\n",
    "        convert(node.left)\n",
    "        node.val = values.pop(0)\n",
    "        convert(node.right)\n",
    "\n",
    "    convert(root)\n",
    "    return root\n"
   ]
  },
  {
   "cell_type": "code",
   "execution_count": 14,
   "metadata": {},
   "outputs": [
    {
     "name": "stdout",
     "output_type": "stream",
     "text": [
      "[2, 4, 7, 8, 10]\n"
     ]
    }
   ],
   "source": [
    "root = TreeNode(10)\n",
    "root.left = TreeNode(2)\n",
    "root.right = TreeNode(7)\n",
    "root.left.left = TreeNode(8)\n",
    "root.left.right = TreeNode(4)\n",
    "\n",
    "converted_root = convertToBST(root)\n",
    "\n",
    "\n",
    "def inorderTraversal(node):\n",
    "    if node is None:\n",
    "        return []\n",
    "    return inorderTraversal(node.left) + [node.val] + inorderTraversal(node.right)\n",
    "\n",
    "print(inorderTraversal(converted_root))  # Output: [2, 4, 7, 8, 10]\n"
   ]
  },
  {
   "attachments": {},
   "cell_type": "markdown",
   "metadata": {},
   "source": [
    "<aside>\n",
    "💡 Question-2:\n",
    "\n",
    "Given a Binary Search Tree with all unique values and two keys. Find the distance between two nodes in BST. The given keys always exist in BST.\n",
    "\n",
    "Example:\n",
    "\n",
    "Consider the following BST:\n",
    "\n",
    "![1.png](https://s3-us-west-2.amazonaws.com/secure.notion-static.com/f2455039-7e12-43fc-a7d3-b5be24931c1c/1.png)\n",
    "\n",
    "**Input-1:**\n",
    "\n",
    "n = 9\n",
    "\n",
    "values = [8, 3, 1, 6, 4, 7, 10, 14,13]\n",
    "\n",
    "node-1 = 6\n",
    "\n",
    "node-2 = 14\n",
    "\n",
    "**Output-1:**\n",
    "\n",
    "The distance between the two keys = 4\n",
    "\n",
    "**Input-2:**\n",
    "\n",
    "n = 9\n",
    "\n",
    "values = [8, 3, 1, 6, 4, 7, 10, 14,13]\n",
    "\n",
    "node-1 = 3\n",
    "\n",
    "node-2 = 4\n",
    "\n",
    "**Output-2:**\n",
    "\n",
    "The distance between the two keys = 2\n",
    "\n",
    "</aside>"
   ]
  },
  {
   "cell_type": "code",
   "execution_count": 3,
   "metadata": {},
   "outputs": [],
   "source": [
    "class TreeNode:\n",
    "    def __init__(self, val=0, left=None, right=None):\n",
    "        self.val = val\n",
    "        self.left = left\n",
    "        self.right = right\n",
    "\n",
    "def findDistance(root, node1, node2):\n",
    "    if root is None:\n",
    "        return 0\n",
    "\n",
    "    if node1.val < root.val and node2.val < root.val:\n",
    "        return findDistance(root.left, node1, node2)\n",
    "    elif node1.val > root.val and node2.val > root.val:\n",
    "        return findDistance(root.right, node1, node2)\n",
    "    else:\n",
    "        return distanceFromNode(root, node1) + distanceFromNode(root, node2)\n",
    "\n",
    "def distanceFromNode(node, target):\n",
    "    if node.val == target.val:\n",
    "        return 0\n",
    "    elif target.val < node.val:\n",
    "        return 1 + distanceFromNode(node.left, target)\n",
    "    else:\n",
    "        return 1 + distanceFromNode(node.right, target)\n"
   ]
  },
  {
   "cell_type": "code",
   "execution_count": 4,
   "metadata": {},
   "outputs": [
    {
     "name": "stdout",
     "output_type": "stream",
     "text": [
      "4\n",
      "2\n"
     ]
    }
   ],
   "source": [
    "# Example 1\n",
    "root = TreeNode(8)\n",
    "root.left = TreeNode(3)\n",
    "root.left.left = TreeNode(1)\n",
    "root.left.right = TreeNode(6)\n",
    "root.left.right.left = TreeNode(4)\n",
    "root.left.right.right = TreeNode(7)\n",
    "root.right = TreeNode(10)\n",
    "root.right.right = TreeNode(14)\n",
    "root.right.right.left = TreeNode(13)\n",
    "\n",
    "node1 = TreeNode(6)\n",
    "node2 = TreeNode(14)\n",
    "print(findDistance(root, node1, node2))  # Output: 4\n",
    "\n",
    "# Example 2\n",
    "node3 = TreeNode(3)\n",
    "node4 = TreeNode(4)\n",
    "print(findDistance(root, node3, node4))  # Output: 2\n"
   ]
  },
  {
   "attachments": {},
   "cell_type": "markdown",
   "metadata": {},
   "source": [
    "💡 Question-3: Write a program to convert a binary tree to a doubly linked list. Input: 10 / \\ 5 20 / \\ 30 35 Output: 5 10 30 20 35"
   ]
  },
  {
   "cell_type": "code",
   "execution_count": 11,
   "metadata": {},
   "outputs": [],
   "source": [
    "class TreeNode:\n",
    "    def __init__(self, val=0, left=None, right=None, prev=None, next=None):\n",
    "        self.val = val\n",
    "        self.left = left\n",
    "        self.right = right\n",
    "        self.prev = prev\n",
    "        self.next = next\n",
    "\n",
    "def convertToDoublyLinkedList(root):\n",
    "    if root is None:\n",
    "        return None\n",
    "\n",
    "    def inorderTraversal(node):\n",
    "        nonlocal prev, head\n",
    "\n",
    "        if node is None:\n",
    "            return\n",
    "\n",
    "        inorderTraversal(node.left)\n",
    "\n",
    "        if prev is None:\n",
    "            head = node\n",
    "        else:\n",
    "            prev.next = node\n",
    "            node.prev = prev\n",
    "\n",
    "        prev = node\n",
    "\n",
    "        inorderTraversal(node.right)\n",
    "\n",
    "    prev = None\n",
    "    head = None\n",
    "    inorderTraversal(root)\n",
    "\n",
    "    return head"
   ]
  },
  {
   "cell_type": "code",
   "execution_count": 12,
   "metadata": {},
   "outputs": [
    {
     "name": "stdout",
     "output_type": "stream",
     "text": [
      "5 10 30 20 35 "
     ]
    }
   ],
   "source": [
    "root = TreeNode(10)\n",
    "root.left = TreeNode(5)\n",
    "root.right = TreeNode(20)\n",
    "root.right.left = TreeNode(30)\n",
    "root.right.right = TreeNode(35)\n",
    "\n",
    "doubly_linked_list_head = convertToDoublyLinkedList(root)\n",
    "\n",
    "# Print the doubly linked list by traversing forward\n",
    "def printDoublyLinkedListForward(node):\n",
    "    while node:\n",
    "        print(node.val, end=\" \")\n",
    "        node = node.next\n",
    "\n",
    "printDoublyLinkedListForward(doubly_linked_list_head)"
   ]
  },
  {
   "attachments": {},
   "cell_type": "markdown",
   "metadata": {},
   "source": [
    "💡 Question-4: Write a program to connect nodes at the same level. Input: 1 / \\ 2 3 / \\ / \\ 4 5 6 7 Output: 1 → -1 2 → 3 3 → -1 4 → 5 5 → 6 6 → 7 7 →"
   ]
  },
  {
   "cell_type": "code",
   "execution_count": 9,
   "metadata": {},
   "outputs": [],
   "source": [
    "class TreeNode:\n",
    "    def __init__(self, val=0, left=None, right=None, next=None):\n",
    "        self.val = val\n",
    "        self.left = left\n",
    "        self.right = right\n",
    "        self.next = next\n",
    "\n",
    "def connectNodes(root):\n",
    "    if root is None:\n",
    "        return root\n",
    "\n",
    "    queue = [root]\n",
    "\n",
    "    while queue:\n",
    "        size = len(queue)\n",
    "\n",
    "        for i in range(size):\n",
    "            node = queue.pop(0)\n",
    "\n",
    "            if i < size - 1:\n",
    "                node.next = queue[0]\n",
    "\n",
    "            if node.left:\n",
    "                queue.append(node.left)\n",
    "            if node.right:\n",
    "                queue.append(node.right)\n",
    "\n",
    "    return root\n",
    "\n",
    "\n",
    "\n"
   ]
  },
  {
   "cell_type": "code",
   "execution_count": 10,
   "metadata": {},
   "outputs": [
    {
     "name": "stdout",
     "output_type": "stream",
     "text": [
      "1 → -1\n"
     ]
    }
   ],
   "source": [
    "\n",
    "root = TreeNode(1)\n",
    "root.left = TreeNode(2)\n",
    "root.right = TreeNode(3)\n",
    "root.left.left = TreeNode(4)\n",
    "root.left.right = TreeNode(5)\n",
    "root.right.left = TreeNode(6)\n",
    "root.right.right = TreeNode(7)\n",
    "\n",
    "connected_root = connectNodes(root)\n",
    "\n",
    "\n",
    "def printConnections(node):\n",
    "    while node:\n",
    "        next_val = -1 if node.next is None else node.next.val\n",
    "        print(node.val, \"→\", next_val)\n",
    "        node = node.next\n",
    "\n",
    "printConnections(connected_root)"
   ]
  }
 ],
 "metadata": {
  "kernelspec": {
   "display_name": "dsa",
   "language": "python",
   "name": "python3"
  },
  "language_info": {
   "codemirror_mode": {
    "name": "ipython",
    "version": 3
   },
   "file_extension": ".py",
   "mimetype": "text/x-python",
   "name": "python",
   "nbconvert_exporter": "python",
   "pygments_lexer": "ipython3",
   "version": "3.10.11"
  },
  "orig_nbformat": 4
 },
 "nbformat": 4,
 "nbformat_minor": 2
}
